{
 "cells": [
  {
   "cell_type": "code",
   "execution_count": 2,
   "metadata": {},
   "outputs": [],
   "source": [
    "import numpy as np\n",
    "import pandas as pd\n",
    "import seaborn as sb\n",
    "import matplotlib.pyplot as plt"
   ]
  },
  {
   "cell_type": "markdown",
   "metadata": {},
   "source": [
    "## Problem 1"
   ]
  },
  {
   "cell_type": "markdown",
   "metadata": {},
   "source": [
    "### data preparation"
   ]
  },
  {
   "cell_type": "code",
   "execution_count": 7,
   "metadata": {},
   "outputs": [],
   "source": [
    "\"\"\"\n",
    "    be sure to run this first as it prepares all dataframe to be used later\n",
    "\"\"\"\n",
    "\n",
    "data = pd.read_csv('train.csv')\n",
    "\n",
    "# problem 1\n",
    "sale_price_data = data['SalePrice']\n",
    "lot_area_data = data['LotArea']\n",
    "gr_liv_area_data = data['GrLivArea']\n",
    "total_bsmt_sf_data = data['TotalBsmtSF']\n",
    "garage_area_data = data['GarageArea']\n",
    "\n",
    "# problem 2\n",
    "ms_sub_class = data['MSSubClass']\n",
    "neighborhood_data = data['Neighborhood']\n",
    "bldg_type_data = data['BldgType']\n",
    "overall_qual_data = data['OverallQual']"
   ]
  },
  {
   "cell_type": "markdown",
   "metadata": {},
   "source": [
    "### Problem 1.a\n"
   ]
  },
  {
   "cell_type": "code",
   "execution_count": 58,
   "metadata": {},
   "outputs": [
    {
     "name": "stdout",
     "output_type": "stream",
     "text": [
      "Number of outliners(LotArea) -  69\n",
      "Number of outliners(GrLivArea) -  31\n",
      "Number of outliners(TotalBsmtSF) -  61\n",
      "Number of outliners(GarageArea) -  21\n"
     ]
    }
   ],
   "source": [
    "\"\"\"\n",
    "    The variable with most number of outliners is LotArea, it has 69 outliners\n",
    "\"\"\"\n",
    "\n",
    "def get_num_outliners(df):\n",
    "    q_1 = df.describe()['25%']\n",
    "    q_3 = df.describe()['75%']\n",
    "    iqr = q_3 - q_1\n",
    "    end = q_3 + iqr * 1.5\n",
    "    start = q_1 - iqr * 1.5\n",
    "\n",
    "    count = 0\n",
    "    for d in df:\n",
    "        if d < start or d > end:\n",
    "            count += 1\n",
    "    return count\n",
    "\n",
    "print(\"Number of outliners(LotArea) - \", get_num_outliners(lot_area_data))\n",
    "print(\"Number of outliners(GrLivArea) - \", get_num_outliners(gr_liv_area_data))\n",
    "print(\"Number of outliners(TotalBsmtSF) - \", get_num_outliners(total_bsmt_sf_data))\n",
    "print(\"Number of outliners(GarageArea) - \", get_num_outliners(garage_area_data))"
   ]
  },
  {
   "cell_type": "markdown",
   "metadata": {},
   "source": [
    "### Problem 1.b"
   ]
  },
  {
   "cell_type": "code",
   "execution_count": 63,
   "metadata": {},
   "outputs": [
    {
     "name": "stdout",
     "output_type": "stream",
     "text": [
      "Skewness of LotArea -  12.207687851233496\n",
      "Skewness of GrLivArea -  1.3665603560164552\n",
      "Skewness of TotalBsmtSF -  1.5242545490627664\n",
      "Skewness of GarageArea -  0.17998090674623907\n"
     ]
    }
   ],
   "source": [
    "\"\"\"\n",
    "    By using skew() function, LotArea has the highest skewness level which is around 12.21\n",
    "\"\"\"\n",
    "\n",
    "print(\"Skewness of LotArea - \", lot_area_data.skew())\n",
    "print(\"Skewness of GrLivArea - \", gr_liv_area_data.skew())\n",
    "print(\"Skewness of TotalBsmtSF - \", total_bsmt_sf_data.skew())\n",
    "print(\"Skewness of GarageArea - \", garage_area_data.skew())"
   ]
  },
  {
   "cell_type": "markdown",
   "metadata": {},
   "source": [
    "### Problem 1.c"
   ]
  },
  {
   "cell_type": "code",
   "execution_count": 71,
   "metadata": {},
   "outputs": [
    {
     "data": {
      "text/html": [
       "<div>\n",
       "<style scoped>\n",
       "    .dataframe tbody tr th:only-of-type {\n",
       "        vertical-align: middle;\n",
       "    }\n",
       "\n",
       "    .dataframe tbody tr th {\n",
       "        vertical-align: top;\n",
       "    }\n",
       "\n",
       "    .dataframe thead th {\n",
       "        text-align: right;\n",
       "    }\n",
       "</style>\n",
       "<table border=\"1\" class=\"dataframe\">\n",
       "  <thead>\n",
       "    <tr style=\"text-align: right;\">\n",
       "      <th></th>\n",
       "      <th>LotArea</th>\n",
       "      <th>SalePrice</th>\n",
       "    </tr>\n",
       "  </thead>\n",
       "  <tbody>\n",
       "    <tr>\n",
       "      <th>LotArea</th>\n",
       "      <td>1.000000</td>\n",
       "      <td>0.263843</td>\n",
       "    </tr>\n",
       "    <tr>\n",
       "      <th>SalePrice</th>\n",
       "      <td>0.263843</td>\n",
       "      <td>1.000000</td>\n",
       "    </tr>\n",
       "  </tbody>\n",
       "</table>\n",
       "</div>"
      ],
      "text/plain": [
       "            LotArea  SalePrice\n",
       "LotArea    1.000000   0.263843\n",
       "SalePrice  0.263843   1.000000"
      ]
     },
     "execution_count": 71,
     "metadata": {},
     "output_type": "execute_result"
    }
   ],
   "source": [
    "\"\"\"\n",
    "    corr() function has been used in the question to determine the top two variables for predicting sale price\n",
    "    from the tables below, we can see that GrLivArea and GarageArea have the higest correlation with sale price\n",
    "\"\"\"\n",
    "\n",
    "joint_lot_area = pd.concat([lot_area_data, sale_price_data], axis = 1).reindex(lot_area_data.index)\n",
    "joint_lot_area.corr()"
   ]
  },
  {
   "cell_type": "code",
   "execution_count": 69,
   "metadata": {},
   "outputs": [
    {
     "data": {
      "text/html": [
       "<div>\n",
       "<style scoped>\n",
       "    .dataframe tbody tr th:only-of-type {\n",
       "        vertical-align: middle;\n",
       "    }\n",
       "\n",
       "    .dataframe tbody tr th {\n",
       "        vertical-align: top;\n",
       "    }\n",
       "\n",
       "    .dataframe thead th {\n",
       "        text-align: right;\n",
       "    }\n",
       "</style>\n",
       "<table border=\"1\" class=\"dataframe\">\n",
       "  <thead>\n",
       "    <tr style=\"text-align: right;\">\n",
       "      <th></th>\n",
       "      <th>GrLivArea</th>\n",
       "      <th>SalePrice</th>\n",
       "    </tr>\n",
       "  </thead>\n",
       "  <tbody>\n",
       "    <tr>\n",
       "      <th>GrLivArea</th>\n",
       "      <td>1.000000</td>\n",
       "      <td>0.708624</td>\n",
       "    </tr>\n",
       "    <tr>\n",
       "      <th>SalePrice</th>\n",
       "      <td>0.708624</td>\n",
       "      <td>1.000000</td>\n",
       "    </tr>\n",
       "  </tbody>\n",
       "</table>\n",
       "</div>"
      ],
      "text/plain": [
       "           GrLivArea  SalePrice\n",
       "GrLivArea   1.000000   0.708624\n",
       "SalePrice   0.708624   1.000000"
      ]
     },
     "execution_count": 69,
     "metadata": {},
     "output_type": "execute_result"
    }
   ],
   "source": [
    "gr_liv_area = pd.concat([gr_liv_area_data, sale_price_data], axis = 1).reindex(gr_liv_area_data.index)\n",
    "gr_liv_area.corr()"
   ]
  },
  {
   "cell_type": "code",
   "execution_count": 72,
   "metadata": {},
   "outputs": [
    {
     "data": {
      "text/html": [
       "<div>\n",
       "<style scoped>\n",
       "    .dataframe tbody tr th:only-of-type {\n",
       "        vertical-align: middle;\n",
       "    }\n",
       "\n",
       "    .dataframe tbody tr th {\n",
       "        vertical-align: top;\n",
       "    }\n",
       "\n",
       "    .dataframe thead th {\n",
       "        text-align: right;\n",
       "    }\n",
       "</style>\n",
       "<table border=\"1\" class=\"dataframe\">\n",
       "  <thead>\n",
       "    <tr style=\"text-align: right;\">\n",
       "      <th></th>\n",
       "      <th>TotalBsmtSF</th>\n",
       "      <th>SalePrice</th>\n",
       "    </tr>\n",
       "  </thead>\n",
       "  <tbody>\n",
       "    <tr>\n",
       "      <th>TotalBsmtSF</th>\n",
       "      <td>1.000000</td>\n",
       "      <td>0.613581</td>\n",
       "    </tr>\n",
       "    <tr>\n",
       "      <th>SalePrice</th>\n",
       "      <td>0.613581</td>\n",
       "      <td>1.000000</td>\n",
       "    </tr>\n",
       "  </tbody>\n",
       "</table>\n",
       "</div>"
      ],
      "text/plain": [
       "             TotalBsmtSF  SalePrice\n",
       "TotalBsmtSF     1.000000   0.613581\n",
       "SalePrice       0.613581   1.000000"
      ]
     },
     "execution_count": 72,
     "metadata": {},
     "output_type": "execute_result"
    }
   ],
   "source": [
    "total_bsmt_sf = pd.concat([total_bsmt_sf_data, sale_price_data], axis = 1).reindex(total_bsmt_sf_data.index)\n",
    "total_bsmt_sf.corr()"
   ]
  },
  {
   "cell_type": "code",
   "execution_count": 73,
   "metadata": {},
   "outputs": [
    {
     "data": {
      "text/html": [
       "<div>\n",
       "<style scoped>\n",
       "    .dataframe tbody tr th:only-of-type {\n",
       "        vertical-align: middle;\n",
       "    }\n",
       "\n",
       "    .dataframe tbody tr th {\n",
       "        vertical-align: top;\n",
       "    }\n",
       "\n",
       "    .dataframe thead th {\n",
       "        text-align: right;\n",
       "    }\n",
       "</style>\n",
       "<table border=\"1\" class=\"dataframe\">\n",
       "  <thead>\n",
       "    <tr style=\"text-align: right;\">\n",
       "      <th></th>\n",
       "      <th>GarageArea</th>\n",
       "      <th>SalePrice</th>\n",
       "    </tr>\n",
       "  </thead>\n",
       "  <tbody>\n",
       "    <tr>\n",
       "      <th>GarageArea</th>\n",
       "      <td>1.000000</td>\n",
       "      <td>0.623431</td>\n",
       "    </tr>\n",
       "    <tr>\n",
       "      <th>SalePrice</th>\n",
       "      <td>0.623431</td>\n",
       "      <td>1.000000</td>\n",
       "    </tr>\n",
       "  </tbody>\n",
       "</table>\n",
       "</div>"
      ],
      "text/plain": [
       "            GarageArea  SalePrice\n",
       "GarageArea    1.000000   0.623431\n",
       "SalePrice     0.623431   1.000000"
      ]
     },
     "execution_count": 73,
     "metadata": {},
     "output_type": "execute_result"
    }
   ],
   "source": [
    "garage_area = pd.concat([garage_area_data, sale_price_data], axis = 1).reindex(garage_area_data.index)\n",
    "garage_area.corr()"
   ]
  },
  {
   "cell_type": "markdown",
   "metadata": {},
   "source": [
    "## Problem 2"
   ]
  },
  {
   "cell_type": "markdown",
   "metadata": {},
   "source": [
    "### Problem 2.a"
   ]
  },
  {
   "cell_type": "code",
   "execution_count": 90,
   "metadata": {},
   "outputs": [
    {
     "name": "stdout",
     "output_type": "stream",
     "text": [
      "number of level(MSSubClass) -  15\n",
      "number of level(Neighborhood) -  25\n",
      "number of level(BldgType) -  5\n",
      "number of level(OverallQual) -  10\n",
      "----------------------------------\n",
      "highest number of houses is 536 in variable MSSubClass is level '20'\n",
      "highest number of houses is 225 in variable Neighborhood is level 'NAmes'\n",
      "highest number of houses is 1220 in variable BldgType is level '1Fam'\n",
      "highest number of houses is 397 in variable OverallQual is level '5'\n"
     ]
    }
   ],
   "source": [
    "\"\"\"\n",
    "    Firstly, i extract out the unique values in each variable and then perform a count, and able to get a result of\n",
    "    Neighborhood having the most number of levels which is 25(as printed below)\n",
    "    \n",
    "    Then, for each variable, i compute the number of houses for each level. Results of which level having most number of\n",
    "    houses in each variable has been printed below\n",
    "\"\"\"\n",
    "\n",
    "# retrieve levels\n",
    "ms_sub_class_levels = ms_sub_class.unique()\n",
    "neighborhood_levels = neighborhood_data.unique()\n",
    "bldg_type_levels = bldg_type_data.unique()\n",
    "overall_qual_levels = overall_qual_data.unique()\n",
    "print(\"number of level(MSSubClass) - \", len(ms_sub_class_levels))\n",
    "print(\"number of level(Neighborhood) - \", len(neighborhood_levels))\n",
    "print(\"number of level(BldgType) - \", len(bldg_type_levels))\n",
    "print(\"number of level(OverallQual) - \", len(overall_qual_levels))\n",
    "print(\"----------------------------------\")\n",
    "\n",
    "def count_highest_house(col_name, levels):\n",
    "    \"\"\"for counting highest number of houses for each level in a column\n",
    "    \"\"\"\n",
    "    highest = 0\n",
    "    r_level = None\n",
    "    for level in levels:\n",
    "        count = len(data.loc[data[col_name] == level])\n",
    "        if count > highest:\n",
    "            highest = count\n",
    "            r_level = level\n",
    "\n",
    "    print(f\"highest number of houses is {highest} in variable {col_name} is level '{r_level}'\")\n",
    "\n",
    "count_highest_house('MSSubClass', ms_sub_class_levels)\n",
    "count_highest_house('Neighborhood', neighborhood_data)\n",
    "count_highest_house('BldgType', bldg_type_data)\n",
    "count_highest_house('OverallQual', overall_qual_data)"
   ]
  },
  {
   "cell_type": "markdown",
   "metadata": {},
   "source": [
    "### problem 2.b"
   ]
  },
  {
   "cell_type": "code",
   "execution_count": 98,
   "metadata": {},
   "outputs": [
    {
     "data": {
      "image/png": "[encoded data removed]",
      "text/plain": [
       "<Figure size 360x360 with 1 Axes>"
      ]
     },
     "metadata": {
      "needs_background": "light"
     },
     "output_type": "display_data"
    },
    {
     "data": {
      "image/png": "[encoded data removed]",
      "text/plain": [
       "<Figure size 360x360 with 1 Axes>"
      ]
     },
     "metadata": {
      "needs_background": "light"
     },
     "output_type": "display_data"
    },
    {
     "data": {
      "image/png": "[encoded data removed]",
      "text/plain": [
       "<Figure size 360x360 with 1 Axes>"
      ]
     },
     "metadata": {
      "needs_background": "light"
     },
     "output_type": "display_data"
    },
    {
     "data": {
      "image/png": "[encoded data removed]",
      "text/plain": [
       "<Figure size 360x360 with 1 Axes>"
      ]
     },
     "metadata": {
      "needs_background": "light"
     },
     "output_type": "display_data"
    }
   ],
   "source": [
    "\"\"\"\n",
    "    According to the boxplots below, we can first see that SalePrice increase as OverallQual increases which is an\n",
    "    indication of SalePrice having a linear relationship with OverallQual, hence OverallQual will be my first pick.\n",
    "    For the other three boxplots, they do not show any linear relationship, hence i will pick one that is with lowest \n",
    "    number of outliners, whereby in this case it should be BldgType.\n",
    "    \n",
    "    So i will pick OverallQual and BldgType\n",
    "\"\"\"\n",
    "\n",
    "sb.catplot(x='MSSubClass', \n",
    "            y='SalePrice',\n",
    "            data=data,\n",
    "            kind='box');\n",
    "\n",
    "sb.catplot(x='Neighborhood', \n",
    "            y='SalePrice',\n",
    "            data=data,\n",
    "            kind='box');\n",
    "\n",
    "sb.catplot(x='BldgType', \n",
    "            y='SalePrice',\n",
    "            data=data,\n",
    "            kind='box');\n",
    "\n",
    "sb.catplot(x='OverallQual', \n",
    "            y='SalePrice',\n",
    "            data=data,\n",
    "            kind='box');"
   ]
  },
  {
   "cell_type": "markdown",
   "metadata": {},
   "source": [
    "## Problem 3"
   ]
  },
  {
   "cell_type": "markdown",
   "metadata": {},
   "source": [
    "### problem 3.a"
   ]
  },
  {
   "cell_type": "code",
   "execution_count": 10,
   "metadata": {},
   "outputs": [
    {
     "data": {
      "image/png": "[encoded data removed]",
      "text/plain": [
       "<Figure size 360x360 with 1 Axes>"
      ]
     },
     "metadata": {
      "needs_background": "light"
     },
     "output_type": "display_data"
    },
    {
     "data": {
      "image/png": "[encoded data removed]",
      "text/plain": [
       "<Figure size 360x360 with 1 Axes>"
      ]
     },
     "metadata": {
      "needs_background": "light"
     },
     "output_type": "display_data"
    },
    {
     "data": {
      "image/png": "[encoded data removed]",
      "text/plain": [
       "<Figure size 360x360 with 1 Axes>"
      ]
     },
     "metadata": {
      "needs_background": "light"
     },
     "output_type": "display_data"
    }
   ],
   "source": [
    "\"\"\"\n",
    "    i think GarageFinish, GarageQual, GarageCond can provide a good gauge on whether having garage \n",
    "    has an impact on the sale price, because they are basically a measure of whether garage has been\n",
    "    built in the house, and how good is the condition of the garage at the moment.\n",
    "    \n",
    "    because nan is a value that does not picked up by catplot, hence i replace all the nan with a constant\n",
    "    string 'NA' and then plot the graphs.\n",
    "    \n",
    "    In all three botplots, the specific botplot which entail the distribution of 'NA' always lies at the bottom\n",
    "    among all boxplots, and hence indicates that without garage, or with garage of poor condition the sale price\n",
    "    of houses always tends to be lower than \n",
    "\"\"\"\n",
    "# GarageFinish\n",
    "# GarageQual\n",
    "# GarageCond\n",
    "data[['GarageFinish', 'GarageQual', 'GarageCond']] = data[['GarageFinish', 'GarageQual', 'GarageCond']].fillna(value='NA')\n",
    "\n",
    "sb.catplot(x='GarageFinish', \n",
    "            y='SalePrice',\n",
    "            data=data,\n",
    "            kind='box');\n",
    "\n",
    "sb.catplot(x='GarageQual', \n",
    "            y='SalePrice',\n",
    "            data=data,\n",
    "            kind='box');\n",
    "\n",
    "sb.catplot(x='GarageCond', \n",
    "            y='SalePrice',\n",
    "            data=data,\n",
    "            kind='box');"
   ]
  },
  {
   "cell_type": "code",
   "execution_count": 9,
   "metadata": {},
   "outputs": [
    {
     "data": {
      "text/plain": [
       "array(['TA', 'Fa', nan, 'Gd', 'Po', 'Ex'], dtype=object)"
      ]
     },
     "execution_count": 9,
     "metadata": {},
     "output_type": "execute_result"
    }
   ],
   "source": [
    "data['GarageCond'].unique()"
   ]
  },
  {
   "cell_type": "code",
   "execution_count": null,
   "metadata": {},
   "outputs": [],
   "source": []
  }
 ],
 "metadata": {
  "kernelspec": {
   "display_name": "Python 3 (ipykernel)",
   "language": "python",
   "name": "python3"
  },
  "language_info": {
   "codemirror_mode": {
    "name": "ipython",
    "version": 3
   },
   "file_extension": ".py",
   "mimetype": "text/x-python",
   "name": "python",
   "nbconvert_exporter": "python",
   "pygments_lexer": "ipython3",
   "version": "3.9.7"
  }
 },
 "nbformat": 4,
 "nbformat_minor": 2
}
